{
  "nbformat": 4,
  "nbformat_minor": 0,
  "metadata": {
    "colab": {
      "provenance": []
    },
    "kernelspec": {
      "name": "python3",
      "display_name": "Python 3"
    },
    "language_info": {
      "name": "python"
    }
  },
  "cells": [
    {
      "cell_type": "code",
      "execution_count": 33,
      "metadata": {
        "id": "fmMSzzELM-RC"
      },
      "outputs": [],
      "source": [
        "import pandas as pd\n",
        "import torch\n",
        "import torch.nn as nn\n",
        "from torch.utils.data import DataLoader, Dataset\n",
        "import numpy as np\n",
        "import pandas as pd\n",
        "import ast\n",
        "import matplotlib.pyplot as plt"
      ]
    },
    {
      "cell_type": "code",
      "source": [
        "df = pd.read_csv('path/to/data')"
      ],
      "metadata": {
        "id": "0hi7zY0qNilc"
      },
      "execution_count": 55,
      "outputs": []
    },
    {
      "cell_type": "code",
      "source": [
        "class PriceForecastingDataset(Dataset):\n",
        "    def __init__(self, dataframe):\n",
        "        self.features = []\n",
        "        self.targets = torch.tensor(dataframe[['price_t+1_scaled', 'price_t+2_scaled', 'price_t+3_scaled']].values, dtype=torch.float32)\n",
        "\n",
        "        for i in range(24, 0, -1):\n",
        "            col_name = f'scaledFeatures_t-{i}'\n",
        "            self.features.append(\n",
        "                np.array(dataframe[col_name].apply(ast.literal_eval).tolist())\n",
        "            )\n",
        "\n",
        "        self.features.append(\n",
        "            np.array(dataframe['scaledFeatures'].apply(ast.literal_eval).tolist())\n",
        "        )\n",
        "\n",
        "        self.features = np.transpose(np.array(self.features), (1, 0, 2))\n",
        "        self.features = torch.tensor(self.features, dtype=torch.float32)\n",
        "\n",
        "    def __len__(self):\n",
        "        return len(self.targets)\n",
        "\n",
        "    def __getitem__(self, idx):\n",
        "        return self.features[idx], self.targets[idx]\n"
      ],
      "metadata": {
        "id": "DZ0aXm5TNn8X"
      },
      "execution_count": 40,
      "outputs": []
    },
    {
      "cell_type": "code",
      "source": [
        "dataset = PriceForecastingDataset(df)"
      ],
      "metadata": {
        "id": "iYyup9WZUhkU"
      },
      "execution_count": 41,
      "outputs": []
    },
    {
      "cell_type": "code",
      "source": [
        "dataset_length = len(dataset)\n",
        "print(\"Total number of entries in the dataset:\", dataset_length)\n",
        "\n",
        "features, targets = dataset[0]\n",
        "print(\"Shape of features:\", features.shape)\n",
        "print(\"Shape of targets:\", targets.shape)\n",
        "\n",
        "\n",
        "train_size = int(0.8 * len(dataset))\n",
        "val_size = len(dataset) - train_size\n",
        "train_dataset, val_dataset = torch.utils.data.random_split(dataset, [train_size, val_size])\n",
        "print(\"Total number of entries in the dataset:\", len(train_dataset))\n",
        "print(\"Total number of entries in the dataset:\", len(val_dataset))"
      ],
      "metadata": {
        "id": "7dKC50sPUmsg"
      },
      "execution_count": null,
      "outputs": []
    },
    {
      "cell_type": "code",
      "source": [
        "train_dataloader = DataLoader(train_dataset, batch_size=64, shuffle=True)\n",
        "val_dataloader = DataLoader(val_dataset, batch_size=64, shuffle=False)"
      ],
      "metadata": {
        "id": "M2TJ-S5tUqyU"
      },
      "execution_count": 43,
      "outputs": []
    },
    {
      "cell_type": "code",
      "source": [
        "class BidirectionalLSTM(nn.Module):\n",
        "    def __init__(self, input_dim, hidden_dim, num_layers, output_dim, df_mean, df_stddev, dropout_rate):\n",
        "\n",
        "        super(BidirectionalLSTM, self).__init__()\n",
        "        self.hidden_dim = hidden_dim\n",
        "        self.num_layers = num_layers\n",
        "        self.lstm = nn.LSTM(input_dim, hidden_dim, num_layers, batch_first=True,\n",
        "                            dropout=dropout_rate, bidirectional=True)\n",
        "        self.dropout = nn.Dropout(dropout_rate)\n",
        "        self.fc = nn.Linear(hidden_dim * 2, output_dim)\n",
        "\n",
        "    def forward(self, x):\n",
        "\n",
        "        h0 = torch.zeros(self.num_layers * 2, x.size(0), self.hidden_dim).to(x.device)\n",
        "        c0 = torch.zeros(self.num_layers * 2, x.size(0), self.hidden_dim).to(x.device)\n",
        "        out, _ = self.lstm(x, (h0, c0))\n",
        "        out = self.dropout(out[:, -1, :])\n",
        "        out = self.fc(out)\n",
        "        out = (out * df_stddev) + df_mean\n",
        "        return out"
      ],
      "metadata": {
        "id": "QHUBQaibWbtu"
      },
      "execution_count": 44,
      "outputs": []
    },
    {
      "cell_type": "code",
      "source": [
        "def count_trainable_parameters(model):\n",
        "    return sum(p.numel() for p in model.parameters() if p.requires_grad)"
      ],
      "metadata": {
        "id": "y4T-P6eQz35x"
      },
      "execution_count": 45,
      "outputs": []
    },
    {
      "cell_type": "code",
      "source": [
        "model = BidirectionalLSTM(input_dim=6, hidden_dim=50, num_layers=2, output_dim=3, df_mean=0.7984, df_stddev=0.0148,  dropout_rate=0.2)\n",
        "total_params = count_trainable_parameters(model)\n",
        "print(f\"Total Trainable Parameters: {total_params}\")\n",
        "criterion = nn.MSELoss()\n",
        "optimizer = torch.optim.Adam(model.parameters(), lr=0.001)"
      ],
      "metadata": {
        "colab": {
          "base_uri": "https://localhost:8080/"
        },
        "id": "35w0b_QowcCR",
        "outputId": "5f75c921-f59f-4f82-a943-ff59c1f0dfd6"
      },
      "execution_count": 46,
      "outputs": [
        {
          "output_type": "stream",
          "name": "stdout",
          "text": [
            "Total Trainable Parameters: 84303\n"
          ]
        }
      ]
    },
    {
      "cell_type": "code",
      "source": [
        "training_losses = []\n",
        "validation_losses = []\n",
        "\n",
        "\n",
        "num_epochs = 50\n",
        "for epoch in range(num_epochs):\n",
        "    model.train()\n",
        "    train_loss = []\n",
        "    for inputs, labels in train_dataloader:\n",
        "        outputs = model(inputs)\n",
        "        loss = criterion(outputs, labels)\n",
        "        optimizer.zero_grad()\n",
        "        loss.backward()\n",
        "        optimizer.step()\n",
        "        train_loss.append(loss.item())\n",
        "    avg_train_loss = sum(train_loss) / len(train_loss)\n",
        "    training_losses.append(avg_train_loss)\n",
        "\n",
        "    model.eval()\n",
        "    with torch.no_grad():\n",
        "        val_loss = []\n",
        "        for inputs, labels in val_dataloader:\n",
        "            outputs = model(inputs)\n",
        "            loss = criterion(outputs, labels)\n",
        "            val_loss.append(loss.item())\n",
        "        avg_val_loss = sum(val_loss) / len(val_loss)\n",
        "        validation_losses.append(avg_val_loss)\n",
        "\n",
        "    print(f'Epoch {epoch+1}, Training Loss: {avg_train_loss}, Validation Loss: {avg_val_loss}')\n",
        "\n"
      ],
      "metadata": {
        "id": "pFbUJZPWwhg4"
      },
      "execution_count": null,
      "outputs": []
    },
    {
      "cell_type": "code",
      "source": [
        "plt.figure(figsize=(10, 5))\n",
        "plt.plot(training_losses, label='Training Loss')\n",
        "plt.plot(validation_losses, label='Validation Loss')\n",
        "plt.title('Training and Validation Loss per Epoch')\n",
        "plt.xlabel('Epochs')\n",
        "plt.ylabel('Loss')\n",
        "plt.legend()\n",
        "plt.show()"
      ],
      "metadata": {
        "id": "8cvinanRxd7A"
      },
      "execution_count": null,
      "outputs": []
    },
    {
      "cell_type": "code",
      "source": [
        "for inputs, labels in val_dataloader:\n",
        "  outputs = model(inputs)\n",
        "  print(labels)\n",
        "  print(outputs)\n",
        "  break"
      ],
      "metadata": {
        "id": "OM-es8Rt2akn"
      },
      "execution_count": null,
      "outputs": []
    }
  ]
}