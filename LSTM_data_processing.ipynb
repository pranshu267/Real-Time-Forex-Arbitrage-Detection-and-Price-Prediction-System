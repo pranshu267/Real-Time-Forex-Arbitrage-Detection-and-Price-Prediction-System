{
 "cells": [
  {
   "cell_type": "code",
   "execution_count": null,
   "id": "0f1cca03-740f-4cdb-922b-16f0986569d7",
   "metadata": {},
   "outputs": [],
   "source": [
    "pip install google-cloud-bigquery"
   ]
  },
  {
   "cell_type": "code",
   "execution_count": 32,
   "id": "e2d571b0-f679-404d-9492-a920fa369c8e",
   "metadata": {},
   "outputs": [],
   "source": [
    "from pyspark.sql.functions import col, min, max, lag, lead, mean, stddev\n",
    "from pyspark.sql.window import Window\n",
    "from pyspark.ml.feature import VectorAssembler, StandardScaler\n",
    "from pyspark.ml import Pipeline"
   ]
  },
  {
   "cell_type": "code",
   "execution_count": 3,
   "id": "e822e50a-e972-42a3-8394-7f1d7e963ba8",
   "metadata": {},
   "outputs": [
    {
     "name": "stderr",
     "output_type": "stream",
     "text": [
      "Warning: Ignoring non-Spark config property: credentialsFile\n",
      "Warning: Ignoring non-Spark config property: parentProject\n"
     ]
    },
    {
     "name": "stdout",
     "output_type": "stream",
     "text": [
      ":: loading settings :: url = jar:file:/opt/conda/envs/bigdata/lib/python3.10/site-packages/pyspark/jars/ivy-2.5.1.jar!/org/apache/ivy/core/settings/ivysettings.xml\n"
     ]
    },
    {
     "name": "stderr",
     "output_type": "stream",
     "text": [
      "Ivy Default Cache set to: /home/jovyan/.ivy2/cache\n",
      "The jars for the packages stored in: /home/jovyan/.ivy2/jars\n",
      "com.google.cloud.spark#spark-bigquery-with-dependencies_2.12 added as a dependency\n",
      ":: resolving dependencies :: org.apache.spark#spark-submit-parent-c062adbf-a30e-4105-85f5-5a9d6f80f4c1;1.0\n",
      "\tconfs: [default]\n",
      "\tfound com.google.cloud.spark#spark-bigquery-with-dependencies_2.12;0.21.0 in central\n",
      ":: resolution report :: resolve 306ms :: artifacts dl 11ms\n",
      "\t:: modules in use:\n",
      "\tcom.google.cloud.spark#spark-bigquery-with-dependencies_2.12;0.21.0 from central in [default]\n",
      "\t---------------------------------------------------------------------\n",
      "\t|                  |            modules            ||   artifacts   |\n",
      "\t|       conf       | number| search|dwnlded|evicted|| number|dwnlded|\n",
      "\t---------------------------------------------------------------------\n",
      "\t|      default     |   1   |   0   |   0   |   0   ||   1   |   0   |\n",
      "\t---------------------------------------------------------------------\n",
      ":: retrieving :: org.apache.spark#spark-submit-parent-c062adbf-a30e-4105-85f5-5a9d6f80f4c1\n",
      "\tconfs: [default]\n",
      "\t0 artifacts copied, 1 already retrieved (0kB/8ms)\n",
      "24/05/03 18:14:38 WARN NativeCodeLoader: Unable to load native-hadoop library for your platform... using builtin-java classes where applicable\n",
      "Setting default log level to \"WARN\".\n",
      "To adjust logging level use sc.setLogLevel(newLevel). For SparkR, use setLogLevel(newLevel).\n"
     ]
    }
   ],
   "source": [
    "from pyspark.sql import SparkSession\n",
    "\n",
    "service_account_path = \"creds.json\"\n",
    "\n",
    "project_id = \"bigdata-421623\"\n",
    "\n",
    "spark = SparkSession.builder \\\n",
    "    .appName(\"BigQuery Integration\") \\\n",
    "    .config(\"spark.jars.packages\", \"com.google.cloud.spark:spark-bigquery-with-dependencies_2.12:0.21.0\") \\\n",
    "    .config(\"credentialsFile\", service_account_path) \\\n",
    "    .config(\"parentProject\", project_id) \\\n",
    "    .getOrCreate()"
   ]
  },
  {
   "cell_type": "code",
   "execution_count": 4,
   "id": "fc3710ab-9ea1-4e89-88cb-ccb65f89ef25",
   "metadata": {},
   "outputs": [],
   "source": [
    "table = \"bigdata-421623.ForEx_Big_Data.Hourly_Forex\"\n",
    "\n",
    "df = spark.read \\\n",
    "    .format(\"bigquery\") \\\n",
    "    .option(\"table\", table) \\\n",
    "    .load()"
   ]
  },
  {
   "cell_type": "code",
   "execution_count": 5,
   "id": "3c6af51b-cca9-4a10-9d75-7ef66d55fee0",
   "metadata": {},
   "outputs": [
    {
     "name": "stdout",
     "output_type": "stream",
     "text": [
      "root\n",
      " |-- closing_price: double (nullable = true)\n",
      " |-- highest_price: double (nullable = true)\n",
      " |-- lowest_price: double (nullable = true)\n",
      " |-- transactions: long (nullable = true)\n",
      " |-- opening_price: double (nullable = true)\n",
      " |-- time: timestamp (nullable = true)\n",
      " |-- volume: long (nullable = true)\n",
      " |-- avg_volume_weight: double (nullable = true)\n",
      " |-- ticker: string (nullable = true)\n",
      " |-- created_at: timestamp (nullable = true)\n",
      "\n"
     ]
    }
   ],
   "source": [
    "df.printSchema()"
   ]
  },
  {
   "cell_type": "code",
   "execution_count": 6,
   "id": "eb4cc406-00ee-4df5-addf-be443d566378",
   "metadata": {},
   "outputs": [
    {
     "name": "stderr",
     "output_type": "stream",
     "text": [
      "                                                                                \r"
     ]
    }
   ],
   "source": [
    "tickers = df.select(\"ticker\").distinct().rdd.flatMap(lambda x: x).collect()"
   ]
  },
  {
   "cell_type": "code",
   "execution_count": 7,
   "id": "2158e464-6a5f-4e29-91f6-5355fec4ce6f",
   "metadata": {},
   "outputs": [
    {
     "name": "stdout",
     "output_type": "stream",
     "text": [
      "['C:JPYUSD', 'C:USDEUR', 'C:EURUSD', 'C:GBPEUR', 'C:USDJPY', 'C:GBPUSD', 'C:EURGBP', 'C:JPYEUR', 'C:EURJPY', 'C:JPYGBP', 'C:GBPJPY', 'C:USDGBP']\n"
     ]
    }
   ],
   "source": [
    "print(tickers)"
   ]
  },
  {
   "cell_type": "code",
   "execution_count": 8,
   "id": "5aeda541-bdcd-4119-b139-adadeb68d2a1",
   "metadata": {},
   "outputs": [
    {
     "name": "stderr",
     "output_type": "stream",
     "text": [
      "                                                                                \r"
     ]
    },
    {
     "name": "stdout",
     "output_type": "stream",
     "text": [
      "+-------------+-------------+------------+------------+-------------+-------------------+------+-----------------+--------+--------------------+\n",
      "|closing_price|highest_price|lowest_price|transactions|opening_price|               time|volume|avg_volume_weight|  ticker|          created_at|\n",
      "+-------------+-------------+------------+------------+-------------+-------------------+------+-----------------+--------+--------------------+\n",
      "|      1.05685|      1.05772|      1.0564|        6162|      1.05765|2023-02-28 19:00:00|  6162|           1.0568|C:EURUSD|2024-04-28 12:04:...|\n",
      "|      1.05841|       1.0586|      1.0566|        7986|      1.05684|2023-02-28 20:00:00|  7986|           1.0576|C:EURUSD|2024-04-28 12:04:...|\n",
      "|      1.05831|      1.05866|       1.058|        4862|      1.05848|2023-02-28 21:00:00|  4862|           1.0584|C:EURUSD|2024-04-28 12:04:...|\n",
      "|      1.05929|       1.0596|      1.0581|        5067|       1.0583|2023-02-28 22:00:00|  5067|            1.059|C:EURUSD|2024-04-28 12:04:...|\n",
      "|       1.0589|      1.05943|      1.0586|        4369|      1.05932|2023-02-28 23:00:00|  4369|            1.059|C:EURUSD|2024-04-28 12:04:...|\n",
      "+-------------+-------------+------------+------------+-------------+-------------------+------+-----------------+--------+--------------------+\n",
      "only showing top 5 rows\n",
      "\n"
     ]
    }
   ],
   "source": [
    "df.show(5)"
   ]
  },
  {
   "cell_type": "code",
   "execution_count": 9,
   "id": "f9ac5b1e-dd08-43d7-9cfe-3691db902961",
   "metadata": {},
   "outputs": [],
   "source": [
    "timestamp_extremes = df.select(\n",
    "    min(\"time\").alias(\"Earliest Timestamp\"),\n",
    "    max(\"time\").alias(\"Latest Timestamp\")\n",
    ")"
   ]
  },
  {
   "cell_type": "code",
   "execution_count": 10,
   "id": "ccd39f1c-ea09-45f4-bdc1-1ca76a7a4503",
   "metadata": {},
   "outputs": [
    {
     "name": "stderr",
     "output_type": "stream",
     "text": [
      "[Stage 4:>                                                          (0 + 1) / 1]\r"
     ]
    },
    {
     "name": "stdout",
     "output_type": "stream",
     "text": [
      "+-------------------+-------------------+\n",
      "| Earliest Timestamp|   Latest Timestamp|\n",
      "+-------------------+-------------------+\n",
      "|2023-02-28 19:00:00|2024-04-26 17:00:00|\n",
      "+-------------------+-------------------+\n",
      "\n"
     ]
    },
    {
     "name": "stderr",
     "output_type": "stream",
     "text": [
      "                                                                                \r"
     ]
    }
   ],
   "source": [
    "timestamp_extremes.show()"
   ]
  },
  {
   "cell_type": "markdown",
   "id": "2cc544b1-254a-40f6-b0ed-723ba6e6361b",
   "metadata": {},
   "source": [
    "# Working on the Top 3 Tickers for Y2024"
   ]
  },
  {
   "cell_type": "code",
   "execution_count": 11,
   "id": "35ab2d73-fc14-4f5f-88d5-d122494f0e4c",
   "metadata": {},
   "outputs": [],
   "source": [
    "USDEUR_df = df.filter(col(\"ticker\") == 'C:USDEUR')\n",
    "USDJPY_df = df.filter(col(\"ticker\") == 'C:USDJPY')\n",
    "USDGBP_df = df.filter(col(\"ticker\") == 'C:USDGBP')"
   ]
  },
  {
   "cell_type": "code",
   "execution_count": 12,
   "id": "741ba216-02ab-4ef1-bce1-3e2b568bf3ae",
   "metadata": {},
   "outputs": [],
   "source": [
    "features = [\"closing_price\", \"highest_price\", \"lowest_price\", \"opening_price\", \"volume\", \"avg_volume_weight\"]"
   ]
  },
  {
   "cell_type": "code",
   "execution_count": 13,
   "id": "82847c82-81e5-4f82-a8ad-6c3c3f8180a8",
   "metadata": {},
   "outputs": [],
   "source": [
    "assembler = VectorAssembler(inputCols=features, outputCol=\"features_vector\")\n",
    "scaler = StandardScaler(inputCol=\"features_vector\", outputCol=\"scaledFeatures\", withMean=True, withStd=True)"
   ]
  },
  {
   "cell_type": "code",
   "execution_count": 14,
   "id": "8618f292-ac97-4c7a-a520-b274543bdbc5",
   "metadata": {},
   "outputs": [],
   "source": [
    "pipeline = Pipeline(stages=[assembler, scaler])"
   ]
  },
  {
   "cell_type": "markdown",
   "id": "ba988d12-0827-4883-9b43-439381f83643",
   "metadata": {},
   "source": [
    "## Ticker USDGBP"
   ]
  },
  {
   "cell_type": "code",
   "execution_count": 15,
   "id": "12e245ab-4469-4cc0-b12c-92b60b6c3cc2",
   "metadata": {},
   "outputs": [
    {
     "name": "stdout",
     "output_type": "stream",
     "text": [
      "+-------------+-------------+------------+------------+-------------+-------------------+------+-----------------+--------+--------------------+\n",
      "|closing_price|highest_price|lowest_price|transactions|opening_price|               time|volume|avg_volume_weight|  ticker|          created_at|\n",
      "+-------------+-------------+------------+------------+-------------+-------------------+------+-----------------+--------+--------------------+\n",
      "|      0.83218|      0.83231|   0.8309098|        6601|        0.831|2023-02-28 19:00:00|  6601|           0.8317|C:USDGBP|2024-04-28 12:12:...|\n",
      "|       0.8309|      0.83222|      0.8306|        9253|      0.83215|2023-02-28 20:00:00|  9253|           0.8314|C:USDGBP|2024-04-28 12:12:...|\n",
      "|      0.83151|       0.8322|     0.83076|        3348|      0.83096|2023-02-28 21:00:00|  3348|           0.8315|C:USDGBP|2024-04-28 12:12:...|\n",
      "|      0.83057|      0.83166|      0.8303|        3407|      0.83152|2023-02-28 22:00:00|  3407|           0.8309|C:USDGBP|2024-04-28 12:12:...|\n",
      "|      0.83054|      0.83082|     0.83027|        2082|      0.83059|2023-02-28 23:00:00|  2082|           0.8306|C:USDGBP|2024-04-28 12:12:...|\n",
      "|      0.83048|      0.83062|      0.8299|        3430|      0.83042|2023-03-01 00:00:00|  3430|           0.8304|C:USDGBP|2024-04-28 12:12:...|\n",
      "|      0.82968|      0.83058|       0.829|        3963|      0.83049|2023-03-01 01:00:00|  3963|           0.8298|C:USDGBP|2024-04-28 12:12:...|\n",
      "|      0.82788|      0.83011|      0.8273|        6734|      0.82964|2023-03-01 02:00:00|  6734|           0.8289|C:USDGBP|2024-04-28 12:12:...|\n",
      "|      0.82781|      0.82854|      0.8271|        7889|      0.82791|2023-03-01 03:00:00|  7889|           0.8279|C:USDGBP|2024-04-28 12:12:...|\n",
      "|      0.82864|       0.8287|      0.8271|        6699|      0.82782|2023-03-01 04:00:00|  6699|           0.8281|C:USDGBP|2024-04-28 12:12:...|\n",
      "+-------------+-------------+------------+------------+-------------+-------------------+------+-----------------+--------+--------------------+\n",
      "only showing top 10 rows\n",
      "\n"
     ]
    }
   ],
   "source": [
    "USDGBP_df.show(10)"
   ]
  },
  {
   "cell_type": "code",
   "execution_count": 16,
   "id": "288a2ca6-20f1-4cba-9d01-fae3a5572db9",
   "metadata": {},
   "outputs": [
    {
     "name": "stderr",
     "output_type": "stream",
     "text": [
      "                                                                                \r"
     ]
    }
   ],
   "source": [
    "USDGBP_df = pipeline.fit(USDGBP_df).transform(USDGBP_df)"
   ]
  },
  {
   "cell_type": "code",
   "execution_count": 17,
   "id": "6a915189-cdbb-4c53-b272-0109c7a59dc3",
   "metadata": {},
   "outputs": [
    {
     "name": "stdout",
     "output_type": "stream",
     "text": [
      "root\n",
      " |-- closing_price: double (nullable = true)\n",
      " |-- highest_price: double (nullable = true)\n",
      " |-- lowest_price: double (nullable = true)\n",
      " |-- transactions: long (nullable = true)\n",
      " |-- opening_price: double (nullable = true)\n",
      " |-- time: timestamp (nullable = true)\n",
      " |-- volume: long (nullable = true)\n",
      " |-- avg_volume_weight: double (nullable = true)\n",
      " |-- ticker: string (nullable = true)\n",
      " |-- created_at: timestamp (nullable = true)\n",
      " |-- features_vector: vector (nullable = true)\n",
      " |-- scaledFeatures: vector (nullable = true)\n",
      "\n"
     ]
    }
   ],
   "source": [
    "USDGBP_df.printSchema()"
   ]
  },
  {
   "cell_type": "code",
   "execution_count": null,
   "id": "e465ae39-d353-4309-be52-a60105023934",
   "metadata": {},
   "outputs": [],
   "source": [
    "USDGBP_df.select(\"scaledFeatures\").show(1)"
   ]
  },
  {
   "cell_type": "code",
   "execution_count": null,
   "id": "af71cda8-835b-42d0-a896-ee0789ac9a00",
   "metadata": {},
   "outputs": [],
   "source": [
    "scaledFeatures = USDGBP_df.select(\"scaledFeatures\").collect()\n",
    "for row in scaledFeatures:\n",
    "    print(row.scaledFeatures)"
   ]
  },
  {
   "cell_type": "code",
   "execution_count": 20,
   "id": "7b09cda1-03f1-46f2-aaeb-14142eb9e169",
   "metadata": {},
   "outputs": [],
   "source": [
    "windowSpec = Window.orderBy(\"time\")"
   ]
  },
  {
   "cell_type": "code",
   "execution_count": 21,
   "id": "e563b36a-d748-491a-bfe5-c14b023093f1",
   "metadata": {},
   "outputs": [],
   "source": [
    "n_steps_in = 24 \n",
    "for i in range(1, n_steps_in + 1):\n",
    "    USDGBP_df = USDGBP_df.withColumn(f\"scaledFeatures_t-{i}\", lag(col(\"scaledFeatures\"), i).over(windowSpec))"
   ]
  },
  {
   "cell_type": "code",
   "execution_count": 22,
   "id": "e5d21b3f-76a6-43a7-8392-19d2e776c539",
   "metadata": {},
   "outputs": [
    {
     "name": "stdout",
     "output_type": "stream",
     "text": [
      "root\n",
      " |-- closing_price: double (nullable = true)\n",
      " |-- highest_price: double (nullable = true)\n",
      " |-- lowest_price: double (nullable = true)\n",
      " |-- transactions: long (nullable = true)\n",
      " |-- opening_price: double (nullable = true)\n",
      " |-- time: timestamp (nullable = true)\n",
      " |-- volume: long (nullable = true)\n",
      " |-- avg_volume_weight: double (nullable = true)\n",
      " |-- ticker: string (nullable = true)\n",
      " |-- created_at: timestamp (nullable = true)\n",
      " |-- features_vector: vector (nullable = true)\n",
      " |-- scaledFeatures: vector (nullable = true)\n",
      " |-- scaledFeatures_t-1: vector (nullable = true)\n",
      " |-- scaledFeatures_t-2: vector (nullable = true)\n",
      " |-- scaledFeatures_t-3: vector (nullable = true)\n",
      " |-- scaledFeatures_t-4: vector (nullable = true)\n",
      " |-- scaledFeatures_t-5: vector (nullable = true)\n",
      " |-- scaledFeatures_t-6: vector (nullable = true)\n",
      " |-- scaledFeatures_t-7: vector (nullable = true)\n",
      " |-- scaledFeatures_t-8: vector (nullable = true)\n",
      " |-- scaledFeatures_t-9: vector (nullable = true)\n",
      " |-- scaledFeatures_t-10: vector (nullable = true)\n",
      " |-- scaledFeatures_t-11: vector (nullable = true)\n",
      " |-- scaledFeatures_t-12: vector (nullable = true)\n",
      " |-- scaledFeatures_t-13: vector (nullable = true)\n",
      " |-- scaledFeatures_t-14: vector (nullable = true)\n",
      " |-- scaledFeatures_t-15: vector (nullable = true)\n",
      " |-- scaledFeatures_t-16: vector (nullable = true)\n",
      " |-- scaledFeatures_t-17: vector (nullable = true)\n",
      " |-- scaledFeatures_t-18: vector (nullable = true)\n",
      " |-- scaledFeatures_t-19: vector (nullable = true)\n",
      " |-- scaledFeatures_t-20: vector (nullable = true)\n",
      " |-- scaledFeatures_t-21: vector (nullable = true)\n",
      " |-- scaledFeatures_t-22: vector (nullable = true)\n",
      " |-- scaledFeatures_t-23: vector (nullable = true)\n",
      " |-- scaledFeatures_t-24: vector (nullable = true)\n",
      "\n"
     ]
    }
   ],
   "source": [
    "USDGBP_df.printSchema()"
   ]
  },
  {
   "cell_type": "code",
   "execution_count": 25,
   "id": "bc7ac396-89d3-41e3-a1fe-072be8d1e2ab",
   "metadata": {},
   "outputs": [],
   "source": [
    "n_steps_out = 3\n",
    "\n",
    "for i in range(1, n_steps_out + 1):\n",
    "    USDGBP_df = USDGBP_df.withColumn(f\"price_t+{i}\", lead(col(\"closing_price\"), i).over(windowSpec))"
   ]
  },
  {
   "cell_type": "code",
   "execution_count": 26,
   "id": "595b72f4-43d6-4722-a46e-5ad465981877",
   "metadata": {},
   "outputs": [
    {
     "name": "stdout",
     "output_type": "stream",
     "text": [
      "root\n",
      " |-- closing_price: double (nullable = true)\n",
      " |-- highest_price: double (nullable = true)\n",
      " |-- lowest_price: double (nullable = true)\n",
      " |-- transactions: long (nullable = true)\n",
      " |-- opening_price: double (nullable = true)\n",
      " |-- time: timestamp (nullable = true)\n",
      " |-- volume: long (nullable = true)\n",
      " |-- avg_volume_weight: double (nullable = true)\n",
      " |-- ticker: string (nullable = true)\n",
      " |-- created_at: timestamp (nullable = true)\n",
      " |-- features_vector: vector (nullable = true)\n",
      " |-- scaledFeatures: vector (nullable = true)\n",
      " |-- scaledFeatures_t-1: vector (nullable = true)\n",
      " |-- scaledFeatures_t-2: vector (nullable = true)\n",
      " |-- scaledFeatures_t-3: vector (nullable = true)\n",
      " |-- scaledFeatures_t-4: vector (nullable = true)\n",
      " |-- scaledFeatures_t-5: vector (nullable = true)\n",
      " |-- scaledFeatures_t-6: vector (nullable = true)\n",
      " |-- scaledFeatures_t-7: vector (nullable = true)\n",
      " |-- scaledFeatures_t-8: vector (nullable = true)\n",
      " |-- scaledFeatures_t-9: vector (nullable = true)\n",
      " |-- scaledFeatures_t-10: vector (nullable = true)\n",
      " |-- scaledFeatures_t-11: vector (nullable = true)\n",
      " |-- scaledFeatures_t-12: vector (nullable = true)\n",
      " |-- scaledFeatures_t-13: vector (nullable = true)\n",
      " |-- scaledFeatures_t-14: vector (nullable = true)\n",
      " |-- scaledFeatures_t-15: vector (nullable = true)\n",
      " |-- scaledFeatures_t-16: vector (nullable = true)\n",
      " |-- scaledFeatures_t-17: vector (nullable = true)\n",
      " |-- scaledFeatures_t-18: vector (nullable = true)\n",
      " |-- scaledFeatures_t-19: vector (nullable = true)\n",
      " |-- scaledFeatures_t-20: vector (nullable = true)\n",
      " |-- scaledFeatures_t-21: vector (nullable = true)\n",
      " |-- scaledFeatures_t-22: vector (nullable = true)\n",
      " |-- scaledFeatures_t-23: vector (nullable = true)\n",
      " |-- scaledFeatures_t-24: vector (nullable = true)\n",
      " |-- price_t+1: double (nullable = true)\n",
      " |-- price_t+2: double (nullable = true)\n",
      " |-- price_t+3: double (nullable = true)\n",
      "\n"
     ]
    }
   ],
   "source": [
    "USDGBP_df.printSchema()"
   ]
  },
  {
   "cell_type": "code",
   "execution_count": 27,
   "id": "6453ff6c-dbbe-4491-9b11-a6d88907352c",
   "metadata": {},
   "outputs": [
    {
     "data": {
      "text/plain": [
       "8315"
      ]
     },
     "execution_count": 27,
     "metadata": {},
     "output_type": "execute_result"
    }
   ],
   "source": [
    "USDGBP_df.count()"
   ]
  },
  {
   "cell_type": "code",
   "execution_count": 28,
   "id": "ab553def-cbb4-4053-b996-fc20b06098d7",
   "metadata": {},
   "outputs": [],
   "source": [
    "for i in range(1, n_steps_out + 1):\n",
    "    USDGBP_df = USDGBP_df.filter(col(f\"price_t+{i}\").isNotNull())"
   ]
  },
  {
   "cell_type": "code",
   "execution_count": null,
   "id": "78e49dcf-552f-4b10-955a-29b6b68e2e63",
   "metadata": {},
   "outputs": [],
   "source": [
    "USDGBP_df.count()"
   ]
  },
  {
   "cell_type": "code",
   "execution_count": 30,
   "id": "8db1d0fd-8022-4431-874f-1435bf22091d",
   "metadata": {},
   "outputs": [],
   "source": [
    "for i in range(1, n_steps_in + 1):\n",
    "    USDGBP_df = USDGBP_df.filter(col(f\"scaledFeatures_t-{i}\").isNotNull())"
   ]
  },
  {
   "cell_type": "code",
   "execution_count": null,
   "id": "d9817ee3-27a0-487f-90ef-eb34d47d43a8",
   "metadata": {},
   "outputs": [],
   "source": [
    "USDGBP_df.count()"
   ]
  },
  {
   "cell_type": "code",
   "execution_count": null,
   "id": "923af945-7fed-4eea-b5c4-b0f6e4edece0",
   "metadata": {},
   "outputs": [],
   "source": [
    "stats_price_t1 = USDGBP_df.select(mean(\"price_t+1\").alias(\"mean\"), stddev(\"price_t+1\").alias(\"stddev\")).collect()[0]\n",
    "stats_price_t2 = USDGBP_df.select(mean(\"price_t+2\").alias(\"mean\"), stddev(\"price_t+2\").alias(\"stddev\")).collect()[0]\n",
    "stats_price_t3 = USDGBP_df.select(mean(\"price_t+3\").alias(\"mean\"), stddev(\"price_t+3\").alias(\"stddev\")).collect()[0]"
   ]
  },
  {
   "cell_type": "code",
   "execution_count": 37,
   "id": "5b671520-1189-446b-b646-a7f760ce9e08",
   "metadata": {},
   "outputs": [
    {
     "name": "stdout",
     "output_type": "stream",
     "text": [
      "The mean and standard deviation for price t+1 are : Row(mean=0.7984131664330393, stddev=0.014891596916482598)\n",
      "The mean and standard deviation for price t+2 are : Row(mean=0.798409260313583, stddev=0.014886865780914332)\n",
      "The mean and standard deviation for price t+3 are : Row(mean=0.7984054252050001, stddev=0.01488217843407354)\n"
     ]
    }
   ],
   "source": [
    "print(f\"The mean and standard deviation for price t+1 are : {stats_price_t1}\")\n",
    "print(f\"The mean and standard deviation for price t+2 are : {stats_price_t2}\")\n",
    "print(f\"The mean and standard deviation for price t+3 are : {stats_price_t3}\")"
   ]
  },
  {
   "cell_type": "code",
   "execution_count": 38,
   "id": "0ea5e772-5c17-4fc3-abb4-4a7618bcc4f1",
   "metadata": {},
   "outputs": [],
   "source": [
    "USDGBP_df = USDGBP_df.withColumn(\"price_t+1_scaled\", (col(\"price_t+1\") - stats_price_t1.mean) / stats_price_t1.stddev)\n",
    "USDGBP_df = USDGBP_df.withColumn(\"price_t+2_scaled\", (col(\"price_t+2\") - stats_price_t2.mean) / stats_price_t2.stddev)\n",
    "USDGBP_df = USDGBP_df.withColumn(\"price_t+3_scaled\", (col(\"price_t+3\") - stats_price_t3.mean) / stats_price_t3.stddev)"
   ]
  },
  {
   "cell_type": "code",
   "execution_count": 39,
   "id": "9a727f27-ceaa-4c26-a559-1eda0d95bf0e",
   "metadata": {},
   "outputs": [
    {
     "name": "stdout",
     "output_type": "stream",
     "text": [
      "root\n",
      " |-- closing_price: double (nullable = true)\n",
      " |-- highest_price: double (nullable = true)\n",
      " |-- lowest_price: double (nullable = true)\n",
      " |-- transactions: long (nullable = true)\n",
      " |-- opening_price: double (nullable = true)\n",
      " |-- time: timestamp (nullable = true)\n",
      " |-- volume: long (nullable = true)\n",
      " |-- avg_volume_weight: double (nullable = true)\n",
      " |-- ticker: string (nullable = true)\n",
      " |-- created_at: timestamp (nullable = true)\n",
      " |-- features_vector: vector (nullable = true)\n",
      " |-- scaledFeatures: vector (nullable = true)\n",
      " |-- scaledFeatures_t-1: vector (nullable = true)\n",
      " |-- scaledFeatures_t-2: vector (nullable = true)\n",
      " |-- scaledFeatures_t-3: vector (nullable = true)\n",
      " |-- scaledFeatures_t-4: vector (nullable = true)\n",
      " |-- scaledFeatures_t-5: vector (nullable = true)\n",
      " |-- scaledFeatures_t-6: vector (nullable = true)\n",
      " |-- scaledFeatures_t-7: vector (nullable = true)\n",
      " |-- scaledFeatures_t-8: vector (nullable = true)\n",
      " |-- scaledFeatures_t-9: vector (nullable = true)\n",
      " |-- scaledFeatures_t-10: vector (nullable = true)\n",
      " |-- scaledFeatures_t-11: vector (nullable = true)\n",
      " |-- scaledFeatures_t-12: vector (nullable = true)\n",
      " |-- scaledFeatures_t-13: vector (nullable = true)\n",
      " |-- scaledFeatures_t-14: vector (nullable = true)\n",
      " |-- scaledFeatures_t-15: vector (nullable = true)\n",
      " |-- scaledFeatures_t-16: vector (nullable = true)\n",
      " |-- scaledFeatures_t-17: vector (nullable = true)\n",
      " |-- scaledFeatures_t-18: vector (nullable = true)\n",
      " |-- scaledFeatures_t-19: vector (nullable = true)\n",
      " |-- scaledFeatures_t-20: vector (nullable = true)\n",
      " |-- scaledFeatures_t-21: vector (nullable = true)\n",
      " |-- scaledFeatures_t-22: vector (nullable = true)\n",
      " |-- scaledFeatures_t-23: vector (nullable = true)\n",
      " |-- scaledFeatures_t-24: vector (nullable = true)\n",
      " |-- price_t+1: double (nullable = true)\n",
      " |-- price_t+2: double (nullable = true)\n",
      " |-- price_t+3: double (nullable = true)\n",
      " |-- price_t+1_scaled: double (nullable = true)\n",
      " |-- price_t+2_scaled: double (nullable = true)\n",
      " |-- price_t+3_scaled: double (nullable = true)\n",
      "\n"
     ]
    }
   ],
   "source": [
    "USDGBP_df.printSchema()"
   ]
  },
  {
   "cell_type": "code",
   "execution_count": null,
   "id": "fb9bbcc7-3437-454a-b35b-5d66f16a7862",
   "metadata": {},
   "outputs": [],
   "source": [
    "pandas_df = USDGBP_df.toPandas()"
   ]
  },
  {
   "cell_type": "code",
   "execution_count": 41,
   "id": "1b944c50-69e9-4420-be02-e8fc43e3425f",
   "metadata": {},
   "outputs": [],
   "source": [
    "pandas_df.to_csv('usdgbp.csv', index=False)"
   ]
  },
  {
   "cell_type": "markdown",
   "id": "c59d07b5-50d8-4283-bf2a-7bf391db6489",
   "metadata": {},
   "source": [
    "## Ticker USDJPY"
   ]
  },
  {
   "cell_type": "code",
   "execution_count": 42,
   "id": "3008ed66-7bf2-4e72-bb2f-0736e47a2d67",
   "metadata": {},
   "outputs": [
    {
     "name": "stderr",
     "output_type": "stream",
     "text": [
      "                                                                                \r"
     ]
    }
   ],
   "source": [
    "USDJPY_df = pipeline.fit(USDJPY_df).transform(USDJPY_df)"
   ]
  },
  {
   "cell_type": "code",
   "execution_count": 43,
   "id": "1064caae-edaa-4080-b254-9bdc5d22a7ae",
   "metadata": {},
   "outputs": [],
   "source": [
    "windowSpec = Window.orderBy(\"time\")"
   ]
  },
  {
   "cell_type": "code",
   "execution_count": 44,
   "id": "8f2d1737-25b6-4f10-89cb-bd56643b9ef9",
   "metadata": {},
   "outputs": [],
   "source": [
    "n_steps_in = 24\n",
    "for i in range(1, n_steps_in + 1):\n",
    "    USDJPY_df = USDJPY_df.withColumn(f\"scaledFeatures_t-{i}\", lag(col(\"scaledFeatures\"), i).over(windowSpec))"
   ]
  },
  {
   "cell_type": "code",
   "execution_count": 45,
   "id": "026ddbb2-e83d-4c26-bf9f-2bbe8503f68a",
   "metadata": {},
   "outputs": [],
   "source": [
    "n_steps_out = 3\n",
    "for i in range(1, n_steps_out + 1):\n",
    "    USDJPY_df = USDJPY_df.withColumn(f\"price_t+{i}\", lead(col(\"closing_price\"), i).over(windowSpec))"
   ]
  },
  {
   "cell_type": "code",
   "execution_count": 46,
   "id": "a9888828-7067-443c-a0b2-df1ec7c7e8ac",
   "metadata": {},
   "outputs": [],
   "source": [
    "for i in range(1, n_steps_out + 1):\n",
    "    USDJPY_df = USDJPY_df.filter(col(f\"price_t+{i}\").isNotNull())\n",
    "\n",
    "for i in range(1, n_steps_in + 1):\n",
    "    USDJPY_df = USDJPY_df.filter(col(f\"scaledFeatures_t-{i}\").isNotNull())"
   ]
  },
  {
   "cell_type": "code",
   "execution_count": 47,
   "id": "0c4a7c08-f70d-4bdd-93cd-e58998979ade",
   "metadata": {},
   "outputs": [
    {
     "name": "stderr",
     "output_type": "stream",
     "text": [
      "24/05/03 18:42:04 WARN WindowExec: No Partition Defined for Window operation! Moving all data to a single partition, this can cause serious performance degradation.\n",
      "24/05/03 18:42:04 WARN WindowExec: No Partition Defined for Window operation! Moving all data to a single partition, this can cause serious performance degradation.\n",
      "24/05/03 18:42:04 WARN WindowExec: No Partition Defined for Window operation! Moving all data to a single partition, this can cause serious performance degradation.\n",
      "24/05/03 18:42:04 WARN WindowExec: No Partition Defined for Window operation! Moving all data to a single partition, this can cause serious performance degradation.\n",
      "24/05/03 18:42:06 WARN WindowExec: No Partition Defined for Window operation! Moving all data to a single partition, this can cause serious performance degradation.\n",
      "24/05/03 18:42:06 WARN WindowExec: No Partition Defined for Window operation! Moving all data to a single partition, this can cause serious performance degradation.\n",
      "24/05/03 18:42:07 WARN WindowExec: No Partition Defined for Window operation! Moving all data to a single partition, this can cause serious performance degradation.\n",
      "24/05/03 18:42:07 WARN WindowExec: No Partition Defined for Window operation! Moving all data to a single partition, this can cause serious performance degradation.\n",
      "24/05/03 18:42:08 WARN WindowExec: No Partition Defined for Window operation! Moving all data to a single partition, this can cause serious performance degradation.\n",
      "24/05/03 18:42:08 WARN WindowExec: No Partition Defined for Window operation! Moving all data to a single partition, this can cause serious performance degradation.\n",
      "24/05/03 18:42:08 WARN WindowExec: No Partition Defined for Window operation! Moving all data to a single partition, this can cause serious performance degradation.\n",
      "24/05/03 18:42:08 WARN WindowExec: No Partition Defined for Window operation! Moving all data to a single partition, this can cause serious performance degradation.\n"
     ]
    },
    {
     "name": "stdout",
     "output_type": "stream",
     "text": [
      "The mean and standard deviation for price t+1 are : Row(mean=144.2553180523532, stddev=6.2683829963715905)\n",
      "The mean and standard deviation for price t+2 are : Row(mean=144.25830109860306, stddev=6.269842186716653)\n",
      "The mean and standard deviation for price t+3 are : Row(mean=144.26124101451245, stddev=6.271226515656858)\n"
     ]
    }
   ],
   "source": [
    "stats_price_t1 = USDJPY_df.select(mean(\"price_t+1\").alias(\"mean\"), stddev(\"price_t+1\").alias(\"stddev\")).collect()[0]\n",
    "stats_price_t2 = USDJPY_df.select(mean(\"price_t+2\").alias(\"mean\"), stddev(\"price_t+2\").alias(\"stddev\")).collect()[0]\n",
    "stats_price_t3 = USDJPY_df.select(mean(\"price_t+3\").alias(\"mean\"), stddev(\"price_t+3\").alias(\"stddev\")).collect()[0]\n",
    "\n",
    "print(f\"The mean and standard deviation for price t+1 are : {stats_price_t1}\")\n",
    "print(f\"The mean and standard deviation for price t+2 are : {stats_price_t2}\")\n",
    "print(f\"The mean and standard deviation for price t+3 are : {stats_price_t3}\")\n",
    "\n",
    "USDJPY_df = USDJPY_df.withColumn(\"price_t+1_scaled\", (col(\"price_t+1\") - stats_price_t1.mean) / stats_price_t1.stddev)\n",
    "USDJPY_df = USDJPY_df.withColumn(\"price_t+2_scaled\", (col(\"price_t+2\") - stats_price_t2.mean) / stats_price_t2.stddev)\n",
    "USDJPY_df = USDJPY_df.withColumn(\"price_t+3_scaled\", (col(\"price_t+3\") - stats_price_t3.mean) / stats_price_t3.stddev)"
   ]
  },
  {
   "cell_type": "code",
   "execution_count": null,
   "id": "55c3cb95-aa35-4ea6-8958-32b0ecf672c6",
   "metadata": {},
   "outputs": [],
   "source": [
    "pandas_df = USDJPY_df.toPandas()"
   ]
  },
  {
   "cell_type": "code",
   "execution_count": 49,
   "id": "a7b97534-1881-4d68-96a1-8e894bc31f4e",
   "metadata": {},
   "outputs": [],
   "source": [
    "pandas_df.to_csv('usdjpy.csv', index=False)"
   ]
  },
  {
   "cell_type": "markdown",
   "id": "347ec7f1-0d91-488c-8c14-eabda39bcf85",
   "metadata": {},
   "source": [
    "## Ticker USDEUR"
   ]
  },
  {
   "cell_type": "code",
   "execution_count": 50,
   "id": "9f531141-100b-48c4-aa40-386b670d952a",
   "metadata": {},
   "outputs": [],
   "source": [
    "USDEUR_df = pipeline.fit(USDEUR_df).transform(USDEUR_df)"
   ]
  },
  {
   "cell_type": "code",
   "execution_count": 51,
   "id": "fe9cea5d-fcb9-4787-b707-d1c571ed4f90",
   "metadata": {},
   "outputs": [],
   "source": [
    "windowSpec = Window.orderBy(\"time\")"
   ]
  },
  {
   "cell_type": "code",
   "execution_count": 52,
   "id": "1c560273-e889-4504-9b88-8fed2d341446",
   "metadata": {},
   "outputs": [],
   "source": [
    "n_steps_in = 24\n",
    "for i in range(1, n_steps_in + 1):\n",
    "    USDEUR_df = USDEUR_df.withColumn(f\"scaledFeatures_t-{i}\", lag(col(\"scaledFeatures\"), i).over(windowSpec))"
   ]
  },
  {
   "cell_type": "code",
   "execution_count": 53,
   "id": "7656d260-8077-4a39-9010-00d2b231d402",
   "metadata": {},
   "outputs": [],
   "source": [
    "n_steps_out = 3\n",
    "for i in range(1, n_steps_out + 1):\n",
    "    USDEUR_df = USDEUR_df.withColumn(f\"price_t+{i}\", lead(col(\"closing_price\"), i).over(windowSpec))"
   ]
  },
  {
   "cell_type": "code",
   "execution_count": 54,
   "id": "cdeb4930-947c-4991-b163-3cd685f6dd02",
   "metadata": {},
   "outputs": [],
   "source": [
    "for i in range(1, n_steps_out + 1):\n",
    "    USDEUR_df = USDEUR_df.filter(col(f\"price_t+{i}\").isNotNull())\n",
    "\n",
    "for i in range(1, n_steps_in + 1):\n",
    "    USDEUR_df = USDEUR_df.filter(col(f\"scaledFeatures_t-{i}\").isNotNull())"
   ]
  },
  {
   "cell_type": "code",
   "execution_count": 55,
   "id": "a4f077a2-c459-4e00-bb71-3394639dff65",
   "metadata": {},
   "outputs": [
    {
     "name": "stderr",
     "output_type": "stream",
     "text": [
      "24/05/03 18:44:27 WARN WindowExec: No Partition Defined for Window operation! Moving all data to a single partition, this can cause serious performance degradation.\n",
      "24/05/03 18:44:27 WARN WindowExec: No Partition Defined for Window operation! Moving all data to a single partition, this can cause serious performance degradation.\n",
      "24/05/03 18:44:27 WARN WindowExec: No Partition Defined for Window operation! Moving all data to a single partition, this can cause serious performance degradation.\n",
      "24/05/03 18:44:27 WARN WindowExec: No Partition Defined for Window operation! Moving all data to a single partition, this can cause serious performance degradation.\n",
      "24/05/03 18:44:29 WARN WindowExec: No Partition Defined for Window operation! Moving all data to a single partition, this can cause serious performance degradation.\n",
      "24/05/03 18:44:29 WARN WindowExec: No Partition Defined for Window operation! Moving all data to a single partition, this can cause serious performance degradation.\n",
      "24/05/03 18:44:29 WARN WindowExec: No Partition Defined for Window operation! Moving all data to a single partition, this can cause serious performance degradation.\n",
      "24/05/03 18:44:29 WARN WindowExec: No Partition Defined for Window operation! Moving all data to a single partition, this can cause serious performance degradation.\n",
      "24/05/03 18:44:31 WARN WindowExec: No Partition Defined for Window operation! Moving all data to a single partition, this can cause serious performance degradation.\n",
      "24/05/03 18:44:31 WARN WindowExec: No Partition Defined for Window operation! Moving all data to a single partition, this can cause serious performance degradation.\n",
      "24/05/03 18:44:31 WARN WindowExec: No Partition Defined for Window operation! Moving all data to a single partition, this can cause serious performance degradation.\n",
      "24/05/03 18:44:32 WARN WindowExec: No Partition Defined for Window operation! Moving all data to a single partition, this can cause serious performance degradation.\n",
      "                                                                                \r"
     ]
    },
    {
     "name": "stdout",
     "output_type": "stream",
     "text": [
      "The mean and standard deviation for price t+1 are : Row(mean=0.9234584314720805, stddev=0.012939727591783587)\n",
      "The mean and standard deviation for price t+2 are : Row(mean=0.9234579169982158, stddev=0.012939192076341945)\n",
      "The mean and standard deviation for price t+3 are : Row(mean=0.9234573545067903, stddev=0.012938635879544101)\n"
     ]
    }
   ],
   "source": [
    "stats_price_t1 = USDEUR_df.select(mean(\"price_t+1\").alias(\"mean\"), stddev(\"price_t+1\").alias(\"stddev\")).collect()[0]\n",
    "stats_price_t2 = USDEUR_df.select(mean(\"price_t+2\").alias(\"mean\"), stddev(\"price_t+2\").alias(\"stddev\")).collect()[0]\n",
    "stats_price_t3 = USDEUR_df.select(mean(\"price_t+3\").alias(\"mean\"), stddev(\"price_t+3\").alias(\"stddev\")).collect()[0]\n",
    "\n",
    "print(f\"The mean and standard deviation for price t+1 are : {stats_price_t1}\")\n",
    "print(f\"The mean and standard deviation for price t+2 are : {stats_price_t2}\")\n",
    "print(f\"The mean and standard deviation for price t+3 are : {stats_price_t3}\")\n",
    "\n",
    "USDEUR_df = USDEUR_df.withColumn(\"price_t+1_scaled\", (col(\"price_t+1\") - stats_price_t1.mean) / stats_price_t1.stddev)\n",
    "USDEUR_df = USDEUR_df.withColumn(\"price_t+2_scaled\", (col(\"price_t+2\") - stats_price_t2.mean) / stats_price_t2.stddev)\n",
    "USDEUR_df = USDEUR_df.withColumn(\"price_t+3_scaled\", (col(\"price_t+3\") - stats_price_t3.mean) / stats_price_t3.stddev)"
   ]
  },
  {
   "cell_type": "code",
   "execution_count": null,
   "id": "1c7cbdab-e85c-4ecc-8c59-c88fb245d59e",
   "metadata": {},
   "outputs": [],
   "source": [
    "pandas_df = USDEUR_df.toPandas()"
   ]
  },
  {
   "cell_type": "code",
   "execution_count": 57,
   "id": "bafab55b-a9b3-4072-a127-fee1cdac9a9d",
   "metadata": {},
   "outputs": [],
   "source": [
    "pandas_df.to_csv('usdeur.csv', index=False)"
   ]
  },
  {
   "cell_type": "code",
   "execution_count": null,
   "id": "0a733664-a096-43b6-87d6-90bc8c14318d",
   "metadata": {},
   "outputs": [],
   "source": []
  }
 ],
 "metadata": {
  "kernelspec": {
   "display_name": "Python [conda env:bigdata]",
   "language": "python",
   "name": "conda-env-bigdata-py"
  },
  "language_info": {
   "codemirror_mode": {
    "name": "ipython",
    "version": 3
   },
   "file_extension": ".py",
   "mimetype": "text/x-python",
   "name": "python",
   "nbconvert_exporter": "python",
   "pygments_lexer": "ipython3",
   "version": "3.10.13"
  }
 },
 "nbformat": 4,
 "nbformat_minor": 5
}
